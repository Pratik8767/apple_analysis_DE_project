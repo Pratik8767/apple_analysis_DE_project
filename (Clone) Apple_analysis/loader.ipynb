{
 "cells": [
  {
   "cell_type": "code",
   "execution_count": 0,
   "metadata": {
    "application/vnd.databricks.v1+cell": {
     "cellMetadata": {
      "byteLimit": 2048000,
      "rowLimit": 10000
     },
     "inputWidgets": {},
     "nuid": "638d38b9-1c2b-4c63-ba36-d13862adbabc",
     "showTitle": false,
     "tableResultSettingsMap": {},
     "title": ""
    }
   },
   "outputs": [],
   "source": [
    "%run \"./loader_factory\""
   ]
  },
  {
   "cell_type": "code",
   "execution_count": 0,
   "metadata": {
    "application/vnd.databricks.v1+cell": {
     "cellMetadata": {
      "byteLimit": 2048000,
      "rowLimit": 10000
     },
     "inputWidgets": {},
     "nuid": "ca9ca586-dd69-41f4-a69f-2e1477573519",
     "showTitle": false,
     "tableResultSettingsMap": {},
     "title": ""
    }
   },
   "outputs": [],
   "source": [
    "class AbstractLoader:\n",
    "    def __init__(self,transformedDf):\n",
    "        self.transformedDf=transformedDf\n",
    "        \n",
    "\n",
    "    def sink(self):\n",
    "        pass\n",
    "\n",
    "\n",
    "class AirpodsAfteriPhoneLoader(AbstractLoader):\n",
    "    def sink(self):\n",
    "        get_sink_source(\n",
    "            sink_type='dbfs',\n",
    "            df=self.transformedDf,\n",
    "            path='/Volumes/data_cata/my_data_storage/my_files/output/AirpodsAfteriPhone/',\n",
    "            method='overwrite'\n",
    "     \n",
    "        ).load_data_frame()\n",
    "\n",
    "\n",
    "\n",
    "class OnlyAirpodsAndIphoneLoader(AbstractLoader):\n",
    "    def sink(self):\n",
    "        params={\n",
    "            \"parttionByColumns\":[\"location\"]\n",
    "\n",
    "        }\n",
    "        get_sink_source(\n",
    "            sink_type='dbfs_with_partition',\n",
    "            df=self.transformedDf,\n",
    "            path='/Volumes/data_cata/my_data_storage/my_files/output/OnlyAirpodsAndiPhone/',\n",
    "            method='overwrite',\n",
    "            params=params\n",
    "        ).load_data_frame()\n",
    "\n",
    "        get_sink_source(\n",
    "            sink_type='delta',\n",
    "            df=self.transformedDf,\n",
    "            path='default.onlyAirpodsAndIphone',\n",
    "            method='overwrite',\n",
    "        ).load_data_frame()\n",
    "\n",
    "\n",
    "\n"
   ]
  },
  {
   "cell_type": "code",
   "execution_count": 0,
   "metadata": {
    "application/vnd.databricks.v1+cell": {
     "cellMetadata": {
      "byteLimit": 2048000,
      "rowLimit": 10000
     },
     "inputWidgets": {},
     "nuid": "15b07da7-375f-40f5-a9e0-3d65338208aa",
     "showTitle": false,
     "tableResultSettingsMap": {},
     "title": ""
    }
   },
   "outputs": [],
   "source": []
  }
 ],
 "metadata": {
  "application/vnd.databricks.v1+notebook": {
   "computePreferences": null,
   "dashboards": [],
   "environmentMetadata": {
    "base_environment": "",
    "environment_version": "3"
   },
   "inputWidgetPreferences": null,
   "language": "python",
   "notebookMetadata": {
    "pythonIndentUnit": 4
   },
   "notebookName": "loader",
   "widgets": {}
  },
  "language_info": {
   "name": "python"
  }
 },
 "nbformat": 4,
 "nbformat_minor": 0
}
