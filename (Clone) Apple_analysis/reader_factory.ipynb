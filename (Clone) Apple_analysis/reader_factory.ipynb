{
 "cells": [
  {
   "cell_type": "code",
   "execution_count": 0,
   "metadata": {
    "application/vnd.databricks.v1+cell": {
     "cellMetadata": {
      "byteLimit": 2048000,
      "rowLimit": 10000
     },
     "inputWidgets": {},
     "nuid": "e65f223f-a6ad-4e14-bf15-12de4fa26811",
     "showTitle": false,
     "tableResultSettingsMap": {},
     "title": ""
    }
   },
   "outputs": [],
   "source": [
    "class  DataSource:\n",
    "    '''\n",
    "    abstract class \n",
    "    '''\n",
    "    def __init__ (self,path):\n",
    "        self.path=path\n",
    "\n",
    "    def get_data_frame(self):\n",
    "        '''\n",
    "        abstract method. function will be defined in subclasses\n",
    "        '''\n",
    "\n",
    "        raise ValueError('not implemented')\n",
    "\n",
    "\n",
    "class CsvDataSource(DataSource):\n",
    "    def get_data_frame(self):\n",
    "        return spark.read.csv(self.path,header=True,inferSchema=True)\n",
    "\n",
    "\n",
    "\n",
    "class ParquetDataSource(DataSource):\n",
    "    def get_data_frame(self):\n",
    "        return spark.read.parquet(self.path,header=True,inferSchema=True)\n",
    "        \n",
    "\n",
    "class DeltaDataSource(DataSource):\n",
    "    def get_data_frame(self):\n",
    "        table_name=self.path\n",
    "        return spark.read.table(table_name)\n",
    "    \n",
    "\n",
    "\n",
    "def get_data_source(data_type,file_path):\n",
    "    if data_type=='csv':\n",
    "        return CsvDataSource(file_path)\n",
    "    elif data_type=='parquet':\n",
    "        return ParquetDataSource(file_path)\n",
    "    elif data_type=='delta':\n",
    "        return DeltaDataSource(file_path)\n",
    "    else:\n",
    "        raise ValueError(f\"data type not supported:{data_type}\")\n"
   ]
  },
  {
   "cell_type": "code",
   "execution_count": 0,
   "metadata": {
    "application/vnd.databricks.v1+cell": {
     "cellMetadata": {},
     "inputWidgets": {},
     "nuid": "4fcc24ad-8046-45de-bb73-04d15bd1d075",
     "showTitle": false,
     "tableResultSettingsMap": {},
     "title": ""
    }
   },
   "outputs": [],
   "source": []
  }
 ],
 "metadata": {
  "application/vnd.databricks.v1+notebook": {
   "computePreferences": {
    "hardware": {
     "accelerator": null,
     "gpuPoolId": null,
     "memory": null
    }
   },
   "dashboards": [],
   "environmentMetadata": {
    "base_environment": "",
    "environment_version": "3"
   },
   "inputWidgetPreferences": null,
   "language": "python",
   "notebookMetadata": {
    "pythonIndentUnit": 4
   },
   "notebookName": "reader_factory",
   "widgets": {}
  },
  "language_info": {
   "name": "python"
  }
 },
 "nbformat": 4,
 "nbformat_minor": 0
}
