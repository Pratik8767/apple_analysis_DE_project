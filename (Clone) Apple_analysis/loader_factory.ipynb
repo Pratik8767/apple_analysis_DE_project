{
 "cells": [
  {
   "cell_type": "code",
   "execution_count": 0,
   "metadata": {
    "application/vnd.databricks.v1+cell": {
     "cellMetadata": {
      "byteLimit": 2048000,
      "rowLimit": 10000
     },
     "inputWidgets": {},
     "nuid": "8ca2573a-d84d-4adb-99eb-2d598b148611",
     "showTitle": false,
     "tableResultSettingsMap": {},
     "title": ""
    }
   },
   "outputs": [],
   "source": [
    "class  DataSink:\n",
    "    '''\n",
    "    abstract class \n",
    "    '''\n",
    "    def __init__ (self,df,path,method,params):\n",
    "        self.df=df\n",
    "        self.path=path\n",
    "        self.method=method\n",
    "        self.params=params\n",
    "\n",
    "    def load_data_frame(self):\n",
    "        '''\n",
    "        abstract method. function will be defined in subclasses\n",
    "        '''\n",
    "\n",
    "        raise ValueError('not implemented')\n",
    "\n",
    "\n",
    "class LoadToDataLake(DataSink):\n",
    "    def load_data_frame(self):\n",
    "        self.df.write.mode(self.method).save(self.path)\n",
    "\n",
    "\n",
    "class LoadToDataLakeWithPartition(DataSink):\n",
    "    def load_data_frame(self):\n",
    "        parttionByColumns=self.params.get('parttionByColumns')\n",
    "        self.df.write.mode(self.method).partitionBy(*parttionByColumns).save(self.path)\n",
    "\n",
    "class LoadToDeltatable(DataSink):\n",
    "    def load_data_frame(self):\n",
    "        self.df.write.format('delta').mode(self.method).saveAsTable(self.path)\n",
    "\n",
    "\n",
    "def get_sink_source(sink_type,df,path,method,params=None):\n",
    "    if sink_type=='dbfs':\n",
    "        return LoadToDataLake(df,path,method,params)\n",
    "    elif sink_type=='dbfs_with_partition':\n",
    "        return LoadToDataLakeWithPartition(df,path,method,params)\n",
    "    elif sink_type=='delta':\n",
    "        return LoadToDeltatable(df,path,method,params)\n",
    "    else:\n",
    "        raise ValueError(f'sink type not supported: {sink_type}') \n",
    "\n",
    "\n",
    "\n"
   ]
  },
  {
   "cell_type": "code",
   "execution_count": 0,
   "metadata": {
    "application/vnd.databricks.v1+cell": {
     "cellMetadata": {
      "byteLimit": 2048000,
      "rowLimit": 10000
     },
     "inputWidgets": {},
     "nuid": "a2813c10-1bfa-445a-9988-20c87444e0d2",
     "showTitle": false,
     "tableResultSettingsMap": {},
     "title": ""
    }
   },
   "outputs": [],
   "source": []
  }
 ],
 "metadata": {
  "application/vnd.databricks.v1+notebook": {
   "computePreferences": {
    "hardware": {
     "accelerator": null,
     "gpuPoolId": null,
     "memory": null
    }
   },
   "dashboards": [],
   "environmentMetadata": {
    "base_environment": "",
    "environment_version": "3"
   },
   "inputWidgetPreferences": null,
   "language": "python",
   "notebookMetadata": {
    "pythonIndentUnit": 4
   },
   "notebookName": "loader_factory",
   "widgets": {}
  },
  "language_info": {
   "name": "python"
  }
 },
 "nbformat": 4,
 "nbformat_minor": 0
}
