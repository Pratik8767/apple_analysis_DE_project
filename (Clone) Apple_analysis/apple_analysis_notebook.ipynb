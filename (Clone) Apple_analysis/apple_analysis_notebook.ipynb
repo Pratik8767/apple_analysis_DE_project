{
 "cells": [
  {
   "cell_type": "code",
   "execution_count": 0,
   "metadata": {
    "application/vnd.databricks.v1+cell": {
     "cellMetadata": {
      "byteLimit": 2048000,
      "rowLimit": 10000
     },
     "inputWidgets": {},
     "nuid": "2cdc575b-0b71-4a84-a9c5-3a37bccf798c",
     "showTitle": false,
     "tableResultSettingsMap": {},
     "title": ""
    }
   },
   "outputs": [],
   "source": [
    "%run \"./reader_factory\"\n"
   ]
  },
  {
   "cell_type": "code",
   "execution_count": 0,
   "metadata": {
    "application/vnd.databricks.v1+cell": {
     "cellMetadata": {
      "byteLimit": 2048000,
      "rowLimit": 10000
     },
     "inputWidgets": {},
     "nuid": "c12dd38f-c5f3-4f9b-9447-f3eb7171b5fa",
     "showTitle": false,
     "tableResultSettingsMap": {},
     "title": ""
    }
   },
   "outputs": [],
   "source": [
    "%run \"./transform\""
   ]
  },
  {
   "cell_type": "code",
   "execution_count": 0,
   "metadata": {
    "application/vnd.databricks.v1+cell": {
     "cellMetadata": {
      "byteLimit": 2048000,
      "rowLimit": 10000
     },
     "inputWidgets": {},
     "nuid": "29b21ba1-0120-451d-82a8-6086d556adc6",
     "showTitle": false,
     "tableResultSettingsMap": {},
     "title": ""
    }
   },
   "outputs": [],
   "source": [
    "%run \"./extractor\""
   ]
  },
  {
   "cell_type": "code",
   "execution_count": 0,
   "metadata": {
    "application/vnd.databricks.v1+cell": {
     "cellMetadata": {
      "byteLimit": 2048000,
      "rowLimit": 10000
     },
     "inputWidgets": {},
     "nuid": "f7ce46b2-98dc-430a-bd28-94a821382d87",
     "showTitle": false,
     "tableResultSettingsMap": {},
     "title": ""
    }
   },
   "outputs": [],
   "source": [
    "%run \"./loader\""
   ]
  },
  {
   "cell_type": "code",
   "execution_count": 0,
   "metadata": {
    "application/vnd.databricks.v1+cell": {
     "cellMetadata": {
      "byteLimit": 2048000,
      "rowLimit": 10000
     },
     "inputWidgets": {},
     "nuid": "79d72896-c565-44c9-9fe1-875c62dbc9be",
     "showTitle": false,
     "tableResultSettingsMap": {},
     "title": ""
    }
   },
   "outputs": [],
   "source": [
    "from pyspark.sql.functions import *\n",
    "from pyspark.sql.types import *\n"
   ]
  },
  {
   "cell_type": "code",
   "execution_count": 0,
   "metadata": {
    "application/vnd.databricks.v1+cell": {
     "cellMetadata": {
      "byteLimit": 2048000,
      "rowLimit": 10000
     },
     "inputWidgets": {},
     "nuid": "2613df0c-158b-47da-8e46-a566d47d39ac",
     "showTitle": false,
     "tableResultSettingsMap": {},
     "title": ""
    }
   },
   "outputs": [],
   "source": [
    "\n",
    "\n",
    "class FirstWorkflow:\n",
    "    '''\n",
    "    This ETL pipeline for generate the data of the all customers who have bought Airpods after buying iPhone.\n",
    "    '''\n",
    "\n",
    "    def __init__(self):\n",
    "        pass\n",
    "\n",
    "    def runner(self):\n",
    "        #Step 1: Extract the data from diffferent sources\n",
    "        inputDfs=AirpodsAfterIphoneExtractor().extract()\n",
    "      \n",
    "        #Step 2: Implement the Transformation logic\n",
    "        # Find the customers who brought airpods after buying iPhone\n",
    "        airpodsAfteriPhoneDf=AirpodsAfterIphoneTransformer().transform(inputDfs)\n",
    "\n",
    "        #Step 3: Loding the required data to different sinks\n",
    "        AirpodsAfteriPhoneLoader(airpodsAfteriPhoneDf).sink()\n",
    "\n",
    "        \n",
    "\n",
    "\n"
   ]
  },
  {
   "cell_type": "code",
   "execution_count": 0,
   "metadata": {
    "application/vnd.databricks.v1+cell": {
     "cellMetadata": {
      "byteLimit": 2048000,
      "rowLimit": 10000
     },
     "inputWidgets": {},
     "nuid": "29684010-80f3-4672-884c-c3eaf1eecc36",
     "showTitle": false,
     "tableResultSettingsMap": {},
     "title": ""
    }
   },
   "outputs": [],
   "source": [
    "\n",
    "\n",
    "class SecondWorkflow:\n",
    "    '''\n",
    "    This ETL pipeline for generate the data of the all customers who have bought  only Airpods & iPhone.\n",
    "    '''\n",
    "\n",
    "    def __init__(self):\n",
    "        pass\n",
    "\n",
    "    def runner(self):\n",
    "        #Step 1: Extract the data from diffferent sources\n",
    "        inputDfs=AirpodsAfterIphoneExtractor().extract()\n",
    "      \n",
    "        #Step 2: Implement the Transformation logic\n",
    "        # Find the customers who brought airpods after buying iPhone\n",
    "        onlyAirpodsAndiPhoneDf=OnlyAirpodsAndIphone().transform(inputDfs)\n",
    "\n",
    "        #Step 3: Loding the required data to different sinks\n",
    "        OnlyAirpodsAndIphoneLoader(onlyAirpodsAndiPhoneDf).sink()\n",
    "\n",
    "        \n",
    "\n",
    "\n"
   ]
  },
  {
   "cell_type": "code",
   "execution_count": 0,
   "metadata": {
    "application/vnd.databricks.v1+cell": {
     "cellMetadata": {
      "byteLimit": 2048000,
      "rowLimit": 10000
     },
     "inputWidgets": {},
     "nuid": "5ff52e31-9257-40b0-ba14-b37c9c7cc715",
     "showTitle": false,
     "tableResultSettingsMap": {
      "4": {
       "dataGridStateBlob": "{\"version\":1,\"tableState\":{\"columnPinning\":{\"left\":[\"#row_number#\"],\"right\":[]},\"columnSizing\":{\"product_set\":207},\"columnVisibility\":{}},\"settings\":{\"columns\":{}},\"syncTimestamp\":1758781445417}",
       "filterBlob": null,
       "queryPlanFiltersBlob": null,
       "tableResultIndex": 4
      }
     },
     "title": ""
    }
   },
   "outputs": [],
   "source": [
    "class WorkFlowRunner:\n",
    "    def __init__(self,name):\n",
    "        self.name=name\n",
    "\n",
    "    def runner(self):\n",
    "        if self.name=='firstWorkflow':\n",
    "            return FirstWorkflow().runner()\n",
    "        elif self.name=='secondWorkflow':\n",
    "            return SecondWorkflow().runner()\n",
    "        else:\n",
    "            print(f\"Please enter the valid workflow name {self.name}\")\n",
    "            return None\n",
    "\n",
    "\n",
    "name=\"secondWorkflow\"\n",
    "\n",
    "workflowRunner=WorkFlowRunner(name).runner()\n"
   ]
  },
  {
   "cell_type": "code",
   "execution_count": 0,
   "metadata": {
    "application/vnd.databricks.v1+cell": {
     "cellMetadata": {},
     "inputWidgets": {},
     "nuid": "8c238b40-7ab9-451f-9aaa-31e28e913eb2",
     "showTitle": false,
     "tableResultSettingsMap": {},
     "title": ""
    }
   },
   "outputs": [],
   "source": []
  }
 ],
 "metadata": {
  "application/vnd.databricks.v1+notebook": {
   "computePreferences": {
    "hardware": {
     "accelerator": null,
     "gpuPoolId": null,
     "memory": null
    }
   },
   "dashboards": [],
   "environmentMetadata": {
    "base_environment": "",
    "environment_version": "3"
   },
   "inputWidgetPreferences": null,
   "language": "python",
   "notebookMetadata": {
    "mostRecentlyExecutedCommandWithImplicitDF": {
     "commandId": 8836966861569007,
     "dataframes": [
      "_sqldf"
     ]
    },
    "pythonIndentUnit": 4
   },
   "notebookName": "apple_analysis_notebook",
   "widgets": {}
  },
  "language_info": {
   "name": "python"
  }
 },
 "nbformat": 4,
 "nbformat_minor": 0
}
