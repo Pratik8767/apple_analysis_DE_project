{
 "cells": [
  {
   "cell_type": "code",
   "execution_count": 0,
   "metadata": {
    "application/vnd.databricks.v1+cell": {
     "cellMetadata": {
      "byteLimit": 2048000,
      "rowLimit": 10000
     },
     "inputWidgets": {},
     "nuid": "55283bb1-3ccd-4868-a5eb-07d73cd494d6",
     "showTitle": false,
     "tableResultSettingsMap": {},
     "title": ""
    }
   },
   "outputs": [],
   "source": [
    "%run \"./reader_factory\""
   ]
  },
  {
   "cell_type": "code",
   "execution_count": 0,
   "metadata": {
    "application/vnd.databricks.v1+cell": {
     "cellMetadata": {
      "byteLimit": 2048000,
      "rowLimit": 10000
     },
     "inputWidgets": {},
     "nuid": "157febb6-a37a-4a16-8ee3-48181e679f74",
     "showTitle": false,
     "tableResultSettingsMap": {},
     "title": ""
    }
   },
   "outputs": [],
   "source": [
    "class Extractor:\n",
    "\n",
    "    '''\n",
    "    abstract class \n",
    "    '''\n",
    "    def __init__(self):\n",
    "        pass\n",
    "\n",
    "    def extract(self):\n",
    "        pass\n",
    "\n",
    "class AirpodsAfterIphoneExtractor(Extractor):\n",
    "    '''\n",
    "    steps perforfomed for extracting or reading the data\n",
    "    '''\n",
    "    def extract(self):\n",
    "        transactionInputDf=get_data_source(\n",
    "            data_type='csv',\n",
    "            file_path='/Volumes/data_cata/my_data_storage/my_files/Transaction_Updated.csv'\n",
    "        ).get_data_frame()\n",
    "\n",
    "        customerInputDf=get_data_source(\n",
    "            data_type='delta',\n",
    "            file_path='data_cata.default.customer_updated'\n",
    "        ).get_data_frame()\n",
    "        transactionInputDf.display()\n",
    "\n",
    "        inputDfs={\n",
    "            \"transactionInputDf\":transactionInputDf,\n",
    "            'customerInputDf':customerInputDf\n",
    "        }\n",
    "\n",
    "        return inputDfs\n",
    "\n"
   ]
  },
  {
   "cell_type": "code",
   "execution_count": 0,
   "metadata": {
    "application/vnd.databricks.v1+cell": {
     "cellMetadata": {
      "byteLimit": 2048000,
      "rowLimit": 10000
     },
     "inputWidgets": {},
     "nuid": "38440435-ee01-4dfd-8a42-b3488de5d45f",
     "showTitle": false,
     "tableResultSettingsMap": {},
     "title": ""
    }
   },
   "outputs": [],
   "source": []
  }
 ],
 "metadata": {
  "application/vnd.databricks.v1+notebook": {
   "computePreferences": null,
   "dashboards": [],
   "environmentMetadata": {
    "base_environment": "",
    "environment_version": "3"
   },
   "inputWidgetPreferences": null,
   "language": "python",
   "notebookMetadata": {
    "pythonIndentUnit": 4
   },
   "notebookName": "extractor",
   "widgets": {}
  },
  "language_info": {
   "name": "python"
  }
 },
 "nbformat": 4,
 "nbformat_minor": 0
}
