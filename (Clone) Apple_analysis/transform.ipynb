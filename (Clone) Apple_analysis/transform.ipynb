{
 "cells": [
  {
   "cell_type": "code",
   "execution_count": 0,
   "metadata": {
    "application/vnd.databricks.v1+cell": {
     "cellMetadata": {
      "byteLimit": 2048000,
      "rowLimit": 10000
     },
     "inputWidgets": {},
     "nuid": "96ac9dc5-57e2-495f-9552-a02afa8c88ac",
     "showTitle": false,
     "tableResultSettingsMap": {},
     "title": ""
    }
   },
   "outputs": [],
   "source": [
    "from pyspark.sql.functions import *\n",
    "from pyspark.sql.window import Window"
   ]
  },
  {
   "cell_type": "code",
   "execution_count": 0,
   "metadata": {
    "application/vnd.databricks.v1+cell": {
     "cellMetadata": {
      "byteLimit": 2048000,
      "rowLimit": 10000
     },
     "inputWidgets": {},
     "nuid": "b39848e2-a1d1-4a53-af0f-a0ebc949ae97",
     "showTitle": false,
     "tableResultSettingsMap": {},
     "title": ""
    }
   },
   "outputs": [],
   "source": [
    "class Transformer:\n",
    "    def __init__(self):\n",
    "        pass\n",
    "\n",
    "    def transform(self,inputDfs):\n",
    "        pass\n",
    "\n",
    "class AirpodsAfterIphoneTransformer(Transformer):\n",
    "    def transform(self,inputDfs):\n",
    "        \"\"\"\n",
    "         Transformation 1 : find the customers who brought airpods after buying iPhone\n",
    "\n",
    "        \"\"\"\n",
    "        transactionInputDf=inputDfs.get('transactionInputDf')\n",
    "        print('transactionInputDf in transform' )\n",
    "        transactionInputDf.display()\n",
    "        windowSpec=Window.partitionBy('customer_id').orderBy('transaction_date')\n",
    "        transformDf=transactionInputDf.withColumn('next_product_name',lead('product_name').over(windowSpec))\n",
    "        print('Airpods after buying iPhone')\n",
    "        transformDf.orderBy('customer_id','transaction_date','product_name').display()\n",
    "\n",
    "        filterDf = transformDf.filter(\n",
    "            (col('product_name') == 'iPhone') & \n",
    "         (col('next_product_name') == 'AirPods')\n",
    "            )\n",
    "\n",
    "        filterDf.orderBy('customer_id','transaction_date','product_name').display()\n",
    "\n",
    "        customerInputDf=inputDfs.get('customerInputDf')\n",
    "        customerInputDf.display()\n",
    "        # joinDF=customerInputDf.join(customerInputDf,'customer_id')\n",
    "        joinDF=customerInputDf.join(\n",
    "            broadcast(filterDf),\n",
    "            'customer_id')\n",
    "\n",
    "        print('joined DF')\n",
    "        joinDF.display()\n",
    "        return joinDF.select(\n",
    "            'customer_id',\n",
    "            'customer_name',\n",
    "            'location'\n",
    "        )\n",
    "\n",
    "\n",
    "class OnlyAirpodsAndIphone(Transformer):\n",
    "    def transform(self,inputDfs):\n",
    "        '''\n",
    "        customers who brought only Airpods and iPhone only!\n",
    "        '''\n",
    "        transactionInputDf=inputDfs.get('transactionInputDf')\n",
    "\n",
    "        groupedDf=transactionInputDf.groupBy('customer_id').agg(\n",
    "            collect_set('product_name').alias('product_set')\n",
    "        )\n",
    "        groupedDf.display()\n",
    "        \n",
    "\n",
    "\n",
    "        filterDf = groupedDf.filter(\n",
    "           (array_contains(col('product_set'),'AirPods')) &\n",
    "           (array_contains(col('product_set'),'iPhone'))&\n",
    "            (size(col('product_set'))==2)\n",
    "                 \n",
    "            )\n",
    "\n",
    "        filterDf.display()\n",
    "\n",
    "        customerInputDf=inputDfs.get('customerInputDf')\n",
    "        customerInputDf.display()\n",
    "        joinDF=customerInputDf.join(\n",
    "            broadcast(filterDf),\n",
    "            'customer_id')\n",
    "\n",
    "        print('joined DF,customers who brought Airpods and iPhone only')\n",
    "        joinDF.display()\n",
    "        return joinDF.select(\n",
    "            'customer_id',\n",
    "            'customer_name',\n",
    "            'location'\n",
    "        )\n",
    "\n"
   ]
  },
  {
   "cell_type": "code",
   "execution_count": 0,
   "metadata": {
    "application/vnd.databricks.v1+cell": {
     "cellMetadata": {
      "byteLimit": 2048000,
      "rowLimit": 10000
     },
     "inputWidgets": {},
     "nuid": "bd91824e-45a6-434e-bbdc-b48e82e93df2",
     "showTitle": false,
     "tableResultSettingsMap": {},
     "title": ""
    }
   },
   "outputs": [],
   "source": []
  }
 ],
 "metadata": {
  "application/vnd.databricks.v1+notebook": {
   "computePreferences": null,
   "dashboards": [],
   "environmentMetadata": {
    "base_environment": "",
    "environment_version": "3"
   },
   "inputWidgetPreferences": null,
   "language": "python",
   "notebookMetadata": {
    "pythonIndentUnit": 4
   },
   "notebookName": "transform",
   "widgets": {}
  },
  "language_info": {
   "name": "python"
  }
 },
 "nbformat": 4,
 "nbformat_minor": 0
}
